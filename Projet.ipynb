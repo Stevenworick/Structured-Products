{
 "cells": [
  {
   "cell_type": "markdown",
   "metadata": {},
   "source": [
    "# Projet Produit Structuré"
   ]
  },
  {
   "cell_type": "code",
   "execution_count": 1,
   "metadata": {},
   "outputs": [],
   "source": [
    "import pandas as pd\n",
    "import numpy as np\n",
    "import math\n",
    "import datetime as dt\n",
    "import strategy as strat\n",
    "import matplotlib.pyplot as plt"
   ]
  },
  {
   "cell_type": "markdown",
   "metadata": {},
   "source": [
    "## Data Retrieving"
   ]
  },
  {
   "cell_type": "markdown",
   "metadata": {},
   "source": [
    "### Eonia Index et EURIBOR pour le taux sans risque (data récupéré de blom à la date du 11 juin)"
   ]
  },
  {
   "cell_type": "code",
   "execution_count": 2,
   "metadata": {},
   "outputs": [],
   "source": [
    "marketRates = pd.Series()\n",
    "marketRates[0.002688] = -0.00476\n",
    "marketRates[0.083333] = -0.00549\n",
    "marketRates[0.25]=-0.00545\n",
    "marketRates[0.5]=-0.00519\n",
    "marketRates[1.0]=-0.005126\n",
    "marketRates[2.0]=-0.004821\n",
    "marketRates[3.0]=-0.00432\n",
    "marketRates[4.0]=-0.003672\n",
    "marketRates[5.0]=-0.002960\n",
    "marketRates[6.0]=-0.002208\n",
    "marketRates[7.0]=-0.001447\n",
    "marketRates[8.0]=-0.000697\n",
    "marketRates[9.0]=0.000040\n",
    "marketRates[10.0]=0.000718\n",
    "marketRates[15.0]=0.00338\n",
    "marketRates[20.0]=0.004563\n",
    "marketRates[30.0]=0.004683"
   ]
  },
  {
   "cell_type": "code",
   "execution_count": 3,
   "metadata": {},
   "outputs": [],
   "source": [
    "## Prix historique et Vol historiques 260D du sous-jacent récupéré de bloomberg\n",
    "data_historic = pd.read_excel(\"Historic_Data.xlsx\")\n",
    "data_historic.set_index([\"Dates\"],inplace=True)"
   ]
  },
  {
   "cell_type": "markdown",
   "metadata": {},
   "source": [
    "### PS Parameters"
   ]
  },
  {
   "cell_type": "code",
   "execution_count": 4,
   "metadata": {},
   "outputs": [],
   "source": [
    "date_exercice = dt.datetime(2018,1,18)\n",
    "strike = data_historic.loc[date_exercice][\"PX_LAST\"]\n",
    "flt_barrier_bonus = 0.7\n",
    "redemption_level = 100\n",
    "flt_bonus = 5.5\n",
    "capital_barrier = 0.6"
   ]
  },
  {
   "cell_type": "code",
   "execution_count": 5,
   "metadata": {},
   "outputs": [],
   "source": [
    "S_init = [data_historic.iloc[-1,0]] ##on va commencer la diffusion en utilisant le prix du 8/06/2021\n",
    "vol = pd.Series([data_historic.iloc[-1,-1]])/100\n",
    "div = pd.Series([0.0267])### Projected 12M Div Yield, retrieve from Bloomberg\n",
    "cal_date = data_historic.index[-1]#.date() ## au 8/06/2021\n",
    "first_observation = dt.datetime(2019,1,11)\n",
    "last_observation = dt.datetime(2028,1,11)\n",
    "s_date_index = pd.date_range(first_observation.replace(day=1), last_observation, freq = \"12MS\") + pd.offsets.Day(first_observation.day-2) + pd.offsets.BDay(1)\n",
    "int_nbre_date = len(s_date_index) - list(cal_date>s_date_index).index(False) + 1"
   ]
  },
  {
   "cell_type": "code",
   "execution_count": 6,
   "metadata": {},
   "outputs": [],
   "source": [
    "## payment date : on crée la série des dates de payments utilisée pour déterminer le Discount Factor\n",
    "payment_init = dt.datetime(2019,1,18)\n",
    "maturity = dt.datetime(2028,1,18)\n",
    "s_payment_index = pd.date_range(payment_init.replace(day=1), maturity, freq = \"12MS\") + pd.offsets.Day(payment_init.day-2) + pd.offsets.BDay(1)\n",
    "\n",
    "s_calcul_date = s_date_index[list(cal_date<s_date_index)]\n",
    "s_calcul_date = [d.date() for d in s_calcul_date]\n",
    "s_payment_date = s_date_index[list(cal_date<s_payment_index)]\n",
    "s_payment_date = [d.date() for d in s_payment_date]\n",
    "\n",
    "## Calcul du Timestep\n",
    "timestep = pd.Series()\n",
    "delta = pd.Series()\n",
    "timestep[cal_date.date()] = 0\n",
    "delta[cal_date.date()] = 0\n",
    "\n",
    "d_ex = cal_date.date()\n",
    "for d in s_calcul_date:\n",
    "    timestep[d] = (d-cal_date.date()).days/365\n",
    "    delta[d] = (d-d_ex).days/365\n",
    "    d_ex = d\n",
    "    \n",
    "paymentstep = pd.Series()\n",
    "paymentstep[cal_date.date()] = 0\n",
    "d_ex = cal_date.date()\n",
    "for d in s_payment_date:\n",
    "    paymentstep[d] = (d-cal_date.date()).days/365\n",
    "    d_ex = d\n",
    "    \n",
    "forwarddiscount = []\n",
    "forwarddiscount.append(0)\n",
    "for i in range(1,int_nbre_date):\n",
    "    index_sup = list(paymentstep[i] > marketRates.index).index(False)\n",
    "    ## interpolation selon la formule de Taylor-Young : f(x) = f(a) + (f(b)-f(a)) * (x-a)/(b-a)\n",
    "    forwarddiscount.append(marketRates.iloc[index_sup-1] + (marketRates.iloc[index_sup]-marketRates.iloc[index_sup-1])*(paymentstep[i]-marketRates.index[index_sup-1])/(marketRates.index[index_sup]-marketRates.index[index_sup-1]))\n",
    "\n",
    "    \n",
    "DF = []\n",
    "spread = 0\n",
    "DF.append(0)\n",
    "DF.append(1/((1+forwarddiscount[1]+spread)**paymentstep[1]))\n",
    "for i in range(2,len(forwarddiscount)):\n",
    "    d_t = paymentstep[i] - paymentstep[i-1]\n",
    "    DF.append(DF[i-1]/((1+forwarddiscount[i])**d_t))\n",
    "    \n",
    "riskfree = []\n",
    "riskfree.append(0)\n",
    "for i in range(1,int_nbre_date):\n",
    "    index_sup = list(timestep[i] > marketRates.index).index(False)\n",
    "    ## interpolation selon la formule de Taylor-Young : f(x) = f(a) + (f(b)-f(a)) * (x-a)/(b-a)\n",
    "    riskfree.append(marketRates.iloc[index_sup-1] + (marketRates.iloc[index_sup]-marketRates.iloc[index_sup-1])*(timestep[i]-marketRates.index[index_sup-1])/(marketRates.index[index_sup]-marketRates.index[index_sup-1]))"
   ]
  },
  {
   "cell_type": "markdown",
   "metadata": {},
   "source": [
    "## Constatation Historique"
   ]
  },
  {
   "cell_type": "code",
   "execution_count": 7,
   "metadata": {},
   "outputs": [],
   "source": [
    "s_historic = s_date_index[list(cal_date>s_date_index)]\n",
    "s_historic = [d.date() for d in s_historic]\n",
    "historic = data_historic.loc[s_historic][\"PX_LAST\"]"
   ]
  },
  {
   "cell_type": "code",
   "execution_count": 8,
   "metadata": {},
   "outputs": [
    {
     "data": {
      "text/plain": [
       "3"
      ]
     },
     "execution_count": 8,
     "metadata": {},
     "output_type": "execute_result"
    }
   ],
   "source": [
    "coupon_du = 0\n",
    "for t in range(len(historic)):\n",
    "    if historic.iloc[t] >= strike*flt_barrier_bonus:\n",
    "        coupon_du +=1\n",
    "coupon_du"
   ]
  },
  {
   "cell_type": "markdown",
   "metadata": {},
   "source": [
    "## Diffusion BS"
   ]
  },
  {
   "cell_type": "code",
   "execution_count": 9,
   "metadata": {},
   "outputs": [],
   "source": [
    "int_nbre_path = 10000\n",
    "gauss = np.random.normal(0,1,size=(int_nbre_path,int_nbre_date - 1,1))\n",
    "matrice_alea = gauss * vol.values"
   ]
  },
  {
   "cell_type": "code",
   "execution_count": 10,
   "metadata": {},
   "outputs": [],
   "source": [
    "diffusion_matrix = strat.Generate_Trajectory_BS(S_init, riskfree, div, vol, delta, np.random.normal(0,1,size=(int_nbre_path,int_nbre_date - 1,1)) * vol.values, int_nbre_path)"
   ]
  },
  {
   "cell_type": "markdown",
   "metadata": {},
   "source": [
    "## Payoff"
   ]
  },
  {
   "cell_type": "code",
   "execution_count": 11,
   "metadata": {},
   "outputs": [
    {
     "data": {
      "text/plain": [
       "0    136.920263\n",
       "dtype: float64"
      ]
     },
     "execution_count": 11,
     "metadata": {},
     "output_type": "execute_result"
    }
   ],
   "source": [
    "#diffusion_matrix = strat.Generate_Trajectory_BS(S_init, riskfree, div, vol, delta, np.random.normal(0,1,size=(int_nbre_path,int_nbre_date - 1,1)) * vol.values, nbre_path = 10000)\n",
    "histo = pd.DataFrame(np.zeros(diffusion_matrix[0].shape)) #permet de récupérer les cash flows \n",
    "price = pd.DataFrame(np.zeros(diffusion_matrix[0].shape))\n",
    "\n",
    "#coupon dû (payé à maturité)\n",
    "coupon_infine = pd.DataFrame(np.zeros(diffusion_matrix[0].shape)) + coupon_du\n",
    "\n",
    "        \n",
    "for t in range(1,len(diffusion_matrix)):\n",
    "    #barrière de bonus\n",
    "    isbonus = diffusion_matrix[t] >= strike*flt_barrier_bonus\n",
    "    coupon_infine = coupon_infine + (isbonus)\n",
    "    \n",
    "    if t == (len(diffusion_matrix)-1): \n",
    "    #maturity case\n",
    "        #payement des coupons dû à maturité\n",
    "        price = price + DF[t] * coupon_infine * flt_bonus \n",
    "        histo = histo + coupon_infine * flt_bonus\n",
    "        \n",
    "        #au dessus de la barrière de capital qd produit non expiré : remboursement de 100% du nominal\n",
    "        isabovecapital = diffusion_matrix[t] >= strike*capital_barrier\n",
    "        price = price + DF[t] * redemption_level * (isabovecapital)\n",
    "        histo = histo + redemption_level * (isabovecapital)\n",
    "\n",
    "        #en dessous du capital : remboursement (diffusion_matrix[t] / strike) %\n",
    "        price = price + DF[t] * 100 * diffusion_matrix[t] / strike  * (~isabovecapital)\n",
    "        histo = histo+ 100 * diffusion_matrix[t] / strike * (~isabovecapital)\n",
    "    \n",
    "price.mean()"
   ]
  },
  {
   "cell_type": "markdown",
   "metadata": {},
   "source": [
    "#### Avec le modèle de BS, on price l'Anthemis à 136.92%"
   ]
  },
  {
   "cell_type": "markdown",
   "metadata": {},
   "source": [
    "## Grecques"
   ]
  },
  {
   "cell_type": "markdown",
   "metadata": {},
   "source": [
    "#### Delta du PS"
   ]
  },
  {
   "cell_type": "code",
   "execution_count": 19,
   "metadata": {},
   "outputs": [],
   "source": [
    "S_up = [S_init[0] * 1.05]\n",
    "S_down = [S_init[0] * 0.95]"
   ]
  },
  {
   "cell_type": "code",
   "execution_count": 20,
   "metadata": {},
   "outputs": [],
   "source": [
    "diffusion_matrix_up = strat.Generate_Trajectory_BS(S_up, riskfree, div, vol, delta, matrice_alea, nbre_path = 10000)\n",
    "prix_up = strat.Pricing_Anthemis(diffusion_matrix_up,coupon_du,strike,flt_barrier_bonus,DF,flt_bonus,capital_barrier,redemption_level)"
   ]
  },
  {
   "cell_type": "code",
   "execution_count": 21,
   "metadata": {},
   "outputs": [],
   "source": [
    "diffusion_matrix_down = strat.Generate_Trajectory_BS(S_down, riskfree, div, vol, delta, matrice_alea, nbre_path = 10000)\n",
    "prix_down = strat.Pricing_Anthemis(diffusion_matrix_down,coupon_du,strike,flt_barrier_bonus,DF,flt_bonus,capital_barrier,redemption_level)"
   ]
  },
  {
   "cell_type": "code",
   "execution_count": 29,
   "metadata": {},
   "outputs": [
    {
     "data": {
      "text/plain": [
       "62.885427004262624"
      ]
     },
     "execution_count": 29,
     "metadata": {},
     "output_type": "execute_result"
    }
   ],
   "source": [
    "delta_ps = (prix_up - prix_down) / (2 * 0.05)\n",
    "delta_ps"
   ]
  },
  {
   "cell_type": "markdown",
   "metadata": {},
   "source": [
    "#### Delta"
   ]
  },
  {
   "cell_type": "code",
   "execution_count": 13,
   "metadata": {},
   "outputs": [],
   "source": [
    "bump = 5\n",
    "spot = np.arange(0.2,2,0.01) * strike"
   ]
  },
  {
   "cell_type": "code",
   "execution_count": 14,
   "metadata": {},
   "outputs": [],
   "source": [
    "price_delta = []\n",
    "for i in range(len(spot)):\n",
    "    diffusion_matrix = strat.Generate_Trajectory_BS(spot[i], riskfree, div, vol, delta, matrice_alea, nbre_path = 10000)\n",
    "    price_delta.append(strat.Pricing_Anthemis(diffusion_matrix,coupon_du,strike,flt_barrier_bonus,DF,flt_bonus,capital_barrier,redemption_level))"
   ]
  },
  {
   "cell_type": "code",
   "execution_count": 36,
   "metadata": {},
   "outputs": [],
   "source": [
    "Delta = (pd.Series(price_delta[bump:])-pd.Series(price_delta[0:-bump]))/(2*bump)"
   ]
  },
  {
   "cell_type": "code",
   "execution_count": 37,
   "metadata": {},
   "outputs": [
    {
     "data": {
      "text/plain": [
       "Text(0.5, 1.0, 'Delta')"
      ]
     },
     "execution_count": 37,
     "metadata": {},
     "output_type": "execute_result"
    },
    {
     "data": {
      "image/png": "[encoded data removed]",
      "text/plain": [
       "<Figure size 432x288 with 1 Axes>"
      ]
     },
     "metadata": {
      "needs_background": "light"
     },
     "output_type": "display_data"
    }
   ],
   "source": [
    "plt.plot(spot[bump:],Delta)\n",
    "plt.axvline(x=strike)\n",
    "plt.title(\"Delta\")"
   ]
  },
  {
   "cell_type": "markdown",
   "metadata": {},
   "source": [
    "#### Gamma"
   ]
  },
  {
   "cell_type": "code",
   "execution_count": 29,
   "metadata": {},
   "outputs": [
    {
     "data": {
      "text/plain": [
       "Text(0.5, 1.0, 'Gamma')"
      ]
     },
     "execution_count": 29,
     "metadata": {},
     "output_type": "execute_result"
    },
    {
     "data": {
      "image/png": "[encoded data removed]",
      "text/plain": [
       "<Figure size 432x288 with 1 Axes>"
      ]
     },
     "metadata": {
      "needs_background": "light"
     },
     "output_type": "display_data"
    }
   ],
   "source": [
    "gamma = (pd.Series(price_delta[2*bump:]) + pd.Series(price_delta[0:-2*bump]) - 2 * pd.Series(price_delta[bump:-bump]))\n",
    "plt.plot(spot[bump:-bump],gamma)\n",
    "plt.axvline(x=strike)\n",
    "plt.title(\"Gamma\")"
   ]
  },
  {
   "cell_type": "markdown",
   "metadata": {},
   "source": [
    "#### Vega"
   ]
  },
  {
   "cell_type": "code",
   "execution_count": 38,
   "metadata": {},
   "outputs": [],
   "source": [
    "bump = 0.01\n",
    "price_vega_up = []\n",
    "price_vega_down = []\n",
    "for i in range(len(spot)):\n",
    "    diffusion_matrix_up = strat.Generate_Trajectory_BS(spot[i], riskfree, div, vol + bump, delta, matrice_alea, nbre_path = 10000)\n",
    "    price_vega_up.append(strat.Pricing_Anthemis(diffusion_matrix_up,coupon_du,strike,flt_barrier_bonus,DF,flt_bonus,capital_barrier,redemption_level))\n",
    "    diffusion_matrix_down = strat.Generate_Trajectory_BS(spot[i], riskfree, div, vol - bump, delta, matrice_alea, nbre_path = 10000)\n",
    "    price_vega_down.append(strat.Pricing_Anthemis(diffusion_matrix_down,coupon_du,strike,flt_barrier_bonus,DF,flt_bonus,capital_barrier,redemption_level))"
   ]
  },
  {
   "cell_type": "code",
   "execution_count": 39,
   "metadata": {},
   "outputs": [
    {
     "data": {
      "text/plain": [
       "Text(0.5, 1.0, 'Vega')"
      ]
     },
     "execution_count": 39,
     "metadata": {},
     "output_type": "execute_result"
    },
    {
     "data": {
      "image/png": "[encoded data removed]",
      "text/plain": [
       "<Figure size 432x288 with 1 Axes>"
      ]
     },
     "metadata": {
      "needs_background": "light"
     },
     "output_type": "display_data"
    }
   ],
   "source": [
    "vega = (pd.Series(price_vega_up) - pd.Series(price_vega_down))/(2*bump*100)\n",
    "plt.plot(spot,vega)\n",
    "plt.axvline(x=strike)\n",
    "plt.title(\"Vega\")"
   ]
  },
  {
   "cell_type": "markdown",
   "metadata": {},
   "source": [
    "## Diffusion Heston"
   ]
  },
  {
   "cell_type": "code",
   "execution_count": 40,
   "metadata": {},
   "outputs": [],
   "source": [
    "V0 = vol[0]**2;\n",
    "Eta = 1.5 #vol de vol (ie) variance\n",
    "Theta = vol[0]**2 #Dans le modèle, on simule la variance => Theta = variance à l'infini, variance long terme\n",
    "Kappa = 2 #force de retour à la moyenne (ie) mean reversion\n",
    "Rho = -0.85 #corrélation entre les 2 lois normales (ie) le spot et la vol"
   ]
  },
  {
   "cell_type": "markdown",
   "metadata": {},
   "source": [
    "#### Riskfree pour la diffusion d'Heston"
   ]
  },
  {
   "cell_type": "code",
   "execution_count": 41,
   "metadata": {},
   "outputs": [],
   "source": [
    "dT=0.01 #pr une année qui contient 252 jours, cela correspon à ~2jours\n",
    "Dates=np.arange(0,timestep.iloc[-1],dT)\n",
    "Dates=sorted(list(set().union(Dates,timestep.values)));\n",
    "riskfree_heston = []\n",
    "riskfree_heston.append(0)\n",
    "for i in range(1,len(Dates)):\n",
    "    index_sup = list(Dates[i] > marketRates.index).index(False)\n",
    "    ## interpolation selon la formule de Taylor-Young : f(x) = f(a) + (f(b)-f(a)) * (x-a)/(b-a)\n",
    "    riskfree_heston.append(marketRates.iloc[index_sup-1] + (marketRates.iloc[index_sup]-marketRates.iloc[index_sup-1])*(Dates[i]-marketRates.index[index_sup-1])/(marketRates.index[index_sup]-marketRates.index[index_sup-1]))"
   ]
  },
  {
   "cell_type": "code",
   "execution_count": 42,
   "metadata": {},
   "outputs": [],
   "source": [
    "Normal_Maxtrix_Temp = np.random.normal(0,1,size=(int_nbre_path,len(Dates) - 1,1))\n",
    "Normal_Maxtrix_Spot = np.random.normal(0,1,size=(int_nbre_path,len(Dates) - 1,1))"
   ]
  },
  {
   "cell_type": "code",
   "execution_count": 43,
   "metadata": {},
   "outputs": [],
   "source": [
    "dict_heston = strat.Generate_Trajectory_Heston(S_init,riskfree_heston,div,timestep,V0,Eta,Theta,Kappa,Rho,int_nbre_path,Normal_Maxtrix_Spot,Normal_Maxtrix_Temp)"
   ]
  },
  {
   "cell_type": "code",
   "execution_count": 44,
   "metadata": {},
   "outputs": [],
   "source": [
    "diffusion_heston = dict_heston[\"diffusion\"]"
   ]
  },
  {
   "cell_type": "code",
   "execution_count": 45,
   "metadata": {},
   "outputs": [
    {
     "data": {
      "text/plain": [
       "102.83889562047888"
      ]
     },
     "execution_count": 45,
     "metadata": {},
     "output_type": "execute_result"
    }
   ],
   "source": [
    "strat.Pricing_Anthemis(diffusion_heston,coupon_du,strike,flt_barrier_bonus,DF,flt_bonus,capital_barrier,redemption_level)"
   ]
  },
  {
   "cell_type": "markdown",
   "metadata": {},
   "source": [
    "#### Avec le modèle d'Heston, on price l'Anthemis à 102.83%"
   ]
  },
  {
   "cell_type": "markdown",
   "metadata": {},
   "source": [
    "### Grecques"
   ]
  },
  {
   "cell_type": "markdown",
   "metadata": {},
   "source": [
    "### Sensibilité au RHO"
   ]
  },
  {
   "cell_type": "code",
   "execution_count": 46,
   "metadata": {},
   "outputs": [],
   "source": [
    "eps = 0.05\n",
    "Rho_up = Rho+eps\n",
    "Rho_down = Rho-eps\n",
    "\n",
    "dict_heston_up = strat.Generate_Trajectory_Heston(S_init,riskfree_heston,div,timestep,V0,Eta,Theta,Kappa,Rho_up,int_nbre_path,Normal_Maxtrix_Spot,Normal_Maxtrix_Temp)\n",
    "dict_heston_down = strat.Generate_Trajectory_Heston(S_init,riskfree_heston,div,timestep,V0,Eta,Theta,Kappa,Rho_down,int_nbre_path,Normal_Maxtrix_Spot,Normal_Maxtrix_Temp)\n",
    "\n",
    "diffusion_heston_up = dict_heston_up[\"diffusion\"]\n",
    "diffusion_heston_down = dict_heston_down[\"diffusion\"]"
   ]
  },
  {
   "cell_type": "code",
   "execution_count": 51,
   "metadata": {},
   "outputs": [
    {
     "data": {
      "text/plain": [
       "-7.464534120571926"
      ]
     },
     "execution_count": 51,
     "metadata": {},
     "output_type": "execute_result"
    }
   ],
   "source": [
    "P_up = strat.Pricing_Anthemis(diffusion_heston_up,coupon_du,strike,flt_barrier_bonus,DF,flt_bonus,capital_barrier,redemption_level)\n",
    "P_down = strat.Pricing_Anthemis(diffusion_heston_down,coupon_du,strike,flt_barrier_bonus,DF,flt_bonus,capital_barrier,redemption_level)\n",
    "\n",
    "grec_rho = (P_up - P_down)/(2*eps)\n",
    "grec_rho"
   ]
  },
  {
   "cell_type": "markdown",
   "metadata": {},
   "source": [
    "### Sensibilité Eta"
   ]
  },
  {
   "cell_type": "code",
   "execution_count": 52,
   "metadata": {},
   "outputs": [],
   "source": [
    "eps = 0.1\n",
    "Eta_up = Eta+eps\n",
    "Eta_down = Eta-eps\n",
    "\n",
    "dict_heston_eta_up = strat.Generate_Trajectory_Heston(S_init,riskfree_heston,div,timestep,V0,Eta_up,Theta,Kappa,Rho,int_nbre_path,Normal_Maxtrix_Spot,Normal_Maxtrix_Temp)\n",
    "dict_heston_eta_down = strat.Generate_Trajectory_Heston(S_init,riskfree_heston,div,timestep,V0,Eta_down,Theta,Kappa,Rho,int_nbre_path,Normal_Maxtrix_Spot,Normal_Maxtrix_Temp)\n",
    "\n",
    "diffusion_heston_eta_up = dict_heston_eta_up[\"diffusion\"]\n",
    "diffusion_heston_eta_down = dict_heston_eta_down[\"diffusion\"]"
   ]
  },
  {
   "cell_type": "code",
   "execution_count": 55,
   "metadata": {},
   "outputs": [
    {
     "data": {
      "text/plain": [
       "-30.619599817379353"
      ]
     },
     "execution_count": 55,
     "metadata": {},
     "output_type": "execute_result"
    }
   ],
   "source": [
    "P_eta_up = strat.Pricing_Anthemis(diffusion_heston_eta_up,coupon_du,strike,flt_barrier_bonus,DF,flt_bonus,capital_barrier,redemption_level)\n",
    "P_eta_down = strat.Pricing_Anthemis(diffusion_heston_eta_down,coupon_du,strike,flt_barrier_bonus,DF,flt_bonus,capital_barrier,redemption_level)\n",
    "\n",
    "grec_eta = (P_eta_up - P_eta_down)/(2*eps)\n",
    "grec_eta"
   ]
  },
  {
   "cell_type": "code",
   "execution_count": 37,
   "metadata": {},
   "outputs": [],
   "source": [
    "Eta_null = 0\n",
    "dict_heston_eta_null = strat.Generate_Trajectory_Heston(S_init,riskfree_heston,div,timestep,V0,Eta_null,Theta,Kappa,Rho,int_nbre_path,Normal_Maxtrix_Spot,Normal_Maxtrix_Temp)\n",
    "\n",
    "diffusion_heston_eta_null = dict_heston_eta_null[\"diffusion\"]\n",
    "P_eta_null = strat.Pricing_Anthemis(diffusion_heston_eta_null,coupon_du,strike,flt_barrier_bonus,DF,flt_bonus,capital_barrier,redemption_level)"
   ]
  },
  {
   "cell_type": "code",
   "execution_count": 38,
   "metadata": {},
   "outputs": [
    {
     "data": {
      "text/plain": [
       "136.70541114864773"
      ]
     },
     "execution_count": 38,
     "metadata": {},
     "output_type": "execute_result"
    }
   ],
   "source": [
    "P_eta_null"
   ]
  }
 ],
 "metadata": {
  "kernelspec": {
   "display_name": "Python 3",
   "language": "python",
   "name": "python3"
  },
  "language_info": {
   "codemirror_mode": {
    "name": "ipython",
    "version": 3
   },
   "file_extension": ".py",
   "mimetype": "text/x-python",
   "name": "python",
   "nbconvert_exporter": "python",
   "pygments_lexer": "ipython3",
   "version": "3.7.1"
  }
 },
 "nbformat": 4,
 "nbformat_minor": 2
}
